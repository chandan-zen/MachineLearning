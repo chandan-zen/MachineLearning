{
 "cells": [
  {
   "cell_type": "markdown",
   "id": "impossible-router",
   "metadata": {
    "papermill": {
     "duration": 0.030145,
     "end_time": "2021-05-04T03:01:24.217742",
     "exception": false,
     "start_time": "2021-05-04T03:01:24.187597",
     "status": "completed"
    },
    "tags": []
   },
   "source": [
    "## Customer Churn Prediction – Banking"
   ]
  },
  {
   "cell_type": "markdown",
   "id": "north-orchestra",
   "metadata": {
    "papermill": {
     "duration": 0.028169,
     "end_time": "2021-05-04T03:01:24.274871",
     "exception": false,
     "start_time": "2021-05-04T03:01:24.246702",
     "status": "completed"
    },
    "tags": []
   },
   "source": [
    "## Import packages"
   ]
  },
  {
   "cell_type": "code",
   "execution_count": 1,
   "id": "circular-officer",
   "metadata": {
    "execution": {
     "iopub.execute_input": "2021-05-04T03:01:24.338203Z",
     "iopub.status.busy": "2021-05-04T03:01:24.337668Z",
     "iopub.status.idle": "2021-05-04T03:01:25.811853Z",
     "shell.execute_reply": "2021-05-04T03:01:25.811013Z"
    },
    "papermill": {
     "duration": 1.508503,
     "end_time": "2021-05-04T03:01:25.811972",
     "exception": false,
     "start_time": "2021-05-04T03:01:24.303469",
     "status": "completed"
    },
    "tags": []
   },
   "outputs": [],
   "source": [
    "#Import python libraries\n",
    "import pandas as pd # data processing, CSV file I/O (e.g. pd.read_csv)\n",
    "import numpy as np\n",
    "from sklearn.model_selection import train_test_split # Import train_test_split function\n",
    "from sklearn import svm #Import svm model\n",
    "from sklearn import metrics #Import scikit-learn metrics module for accuracy calculation\n",
    "from sklearn.metrics import confusion_matrix #Calculate confusion matrix\n",
    "from xgboost import XGBClassifier\n",
    "\n",
    "#Visualization packages\n",
    "import matplotlib.pyplot as plt \n",
    "import seaborn as sns \n",
    "\n",
    "#Suppress warnings\n",
    "import warnings\n",
    "warnings.filterwarnings('ignore')"
   ]
  },
  {
   "cell_type": "markdown",
   "id": "defined-latest",
   "metadata": {
    "papermill": {
     "duration": 0.027158,
     "end_time": "2021-05-04T03:01:25.867394",
     "exception": false,
     "start_time": "2021-05-04T03:01:25.840236",
     "status": "completed"
    },
    "tags": []
   },
   "source": [
    "## Functions"
   ]
  },
  {
   "cell_type": "markdown",
   "id": "dutch-agriculture",
   "metadata": {
    "papermill": {
     "duration": 0.027329,
     "end_time": "2021-05-04T03:01:25.922397",
     "exception": false,
     "start_time": "2021-05-04T03:01:25.895068",
     "status": "completed"
    },
    "tags": []
   },
   "source": [
    "**Function to Train and Test Machine Learning Model**"
   ]
  },
  {
   "cell_type": "code",
   "execution_count": 2,
   "id": "opponent-optics",
   "metadata": {
    "execution": {
     "iopub.execute_input": "2021-05-04T03:01:25.983286Z",
     "iopub.status.busy": "2021-05-04T03:01:25.982715Z",
     "iopub.status.idle": "2021-05-04T03:01:25.984106Z",
     "shell.execute_reply": "2021-05-04T03:01:25.984559Z"
    },
    "papermill": {
     "duration": 0.034689,
     "end_time": "2021-05-04T03:01:25.984694",
     "exception": false,
     "start_time": "2021-05-04T03:01:25.950005",
     "status": "completed"
    },
    "tags": []
   },
   "outputs": [],
   "source": [
    "#Function to Train and Test Machine Learning Model\n",
    "def train_test_ml_model(X_train,y_train,X_test,Model):\n",
    "    model.fit(X_train,y_train) #Train the Model\n",
    "    y_pred = model.predict(X_test) #Use the Model for prediction\n",
    "\n",
    "    # Test the Model\n",
    "    from sklearn.metrics import confusion_matrix\n",
    "    cm = confusion_matrix(y_test,y_pred)\n",
    "    accuracy = round(100*np.trace(cm)/np.sum(cm),1)\n",
    "\n",
    "    #Plot/Display the results\n",
    "    cm_plot(cm,Model)\n",
    "    print('Accuracy of the Model' ,Model, str(accuracy)+'%')"
   ]
  },
  {
   "cell_type": "markdown",
   "id": "narrow-adult",
   "metadata": {
    "papermill": {
     "duration": 0.027522,
     "end_time": "2021-05-04T03:01:26.040656",
     "exception": false,
     "start_time": "2021-05-04T03:01:26.013134",
     "status": "completed"
    },
    "tags": []
   },
   "source": [
    "**Function to plot Confusion Matrix**"
   ]
  },
  {
   "cell_type": "code",
   "execution_count": 3,
   "id": "featured-wealth",
   "metadata": {
    "execution": {
     "iopub.execute_input": "2021-05-04T03:01:26.098439Z",
     "iopub.status.busy": "2021-05-04T03:01:26.098001Z",
     "iopub.status.idle": "2021-05-04T03:01:26.105105Z",
     "shell.execute_reply": "2021-05-04T03:01:26.105509Z"
    },
    "papermill": {
     "duration": 0.037169,
     "end_time": "2021-05-04T03:01:26.105658",
     "exception": false,
     "start_time": "2021-05-04T03:01:26.068489",
     "status": "completed"
    },
    "tags": []
   },
   "outputs": [],
   "source": [
    "#Function to plot Confusion Matrix\n",
    "def cm_plot(cm,Model):\n",
    "    plt.clf()\n",
    "    plt.imshow(cm, interpolation='nearest', cmap=plt.cm.Wistia)\n",
    "    classNames = ['Negative','Positive']\n",
    "    plt.title('Comparison of Prediction Result for '+ Model)\n",
    "    plt.ylabel('True label')\n",
    "    plt.xlabel('Predicted label')\n",
    "    tick_marks = np.arange(len(classNames))\n",
    "    plt.xticks(tick_marks, classNames, rotation=45)\n",
    "    plt.yticks(tick_marks, classNames)\n",
    "    s = [['TN','FP'], ['FN', 'TP']]\n",
    "    for i in range(2):\n",
    "        for j in range(2):\n",
    "            plt.text(j,i, str(s[i][j])+\" = \"+str(cm[i][j]))\n",
    "    plt.show()\n",
    "    print(cm[1][0])"
   ]
  },
  {
   "cell_type": "markdown",
   "id": "complex-invite",
   "metadata": {
    "papermill": {
     "duration": 0.028889,
     "end_time": "2021-05-04T03:01:26.163864",
     "exception": false,
     "start_time": "2021-05-04T03:01:26.134975",
     "status": "completed"
    },
    "tags": []
   },
   "source": [
    "## Import data"
   ]
  },
  {
   "cell_type": "markdown",
   "id": "improved-samuel",
   "metadata": {
    "papermill": {
     "duration": 0.027366,
     "end_time": "2021-05-04T03:01:26.218846",
     "exception": false,
     "start_time": "2021-05-04T03:01:26.191480",
     "status": "completed"
    },
    "tags": []
   },
   "source": [
    "**Import the data file 'Churn_Modelling.csv'**"
   ]
  },
  {
   "cell_type": "code",
   "execution_count": 4,
   "id": "described-forge",
   "metadata": {
    "execution": {
     "iopub.execute_input": "2021-05-04T03:01:26.276664Z",
     "iopub.status.busy": "2021-05-04T03:01:26.276230Z",
     "iopub.status.idle": "2021-05-04T03:01:26.348417Z",
     "shell.execute_reply": "2021-05-04T03:01:26.347634Z"
    },
    "papermill": {
     "duration": 0.102029,
     "end_time": "2021-05-04T03:01:26.348537",
     "exception": false,
     "start_time": "2021-05-04T03:01:26.246508",
     "status": "completed"
    },
    "tags": []
   },
   "outputs": [
    {
     "data": {
      "text/html": [
       "<div>\n",
       "<style scoped>\n",
       "    .dataframe tbody tr th:only-of-type {\n",
       "        vertical-align: middle;\n",
       "    }\n",
       "\n",
       "    .dataframe tbody tr th {\n",
       "        vertical-align: top;\n",
       "    }\n",
       "\n",
       "    .dataframe thead th {\n",
       "        text-align: right;\n",
       "    }\n",
       "</style>\n",
       "<table border=\"1\" class=\"dataframe\">\n",
       "  <thead>\n",
       "    <tr style=\"text-align: right;\">\n",
       "      <th></th>\n",
       "      <th>Surname</th>\n",
       "      <th>CreditScore</th>\n",
       "      <th>Geography</th>\n",
       "      <th>Gender</th>\n",
       "      <th>Age</th>\n",
       "      <th>Tenure</th>\n",
       "      <th>Balance</th>\n",
       "      <th>NumOfProducts</th>\n",
       "      <th>HasCrCard</th>\n",
       "      <th>IsActiveMember</th>\n",
       "      <th>EstimatedSalary</th>\n",
       "      <th>Exited</th>\n",
       "    </tr>\n",
       "  </thead>\n",
       "  <tbody>\n",
       "    <tr>\n",
       "      <th>0</th>\n",
       "      <td>Hargrave</td>\n",
       "      <td>619</td>\n",
       "      <td>France</td>\n",
       "      <td>0</td>\n",
       "      <td>42</td>\n",
       "      <td>2</td>\n",
       "      <td>0.00</td>\n",
       "      <td>1</td>\n",
       "      <td>1</td>\n",
       "      <td>1</td>\n",
       "      <td>101348.88</td>\n",
       "      <td>1</td>\n",
       "    </tr>\n",
       "    <tr>\n",
       "      <th>1</th>\n",
       "      <td>Hill</td>\n",
       "      <td>608</td>\n",
       "      <td>Spain</td>\n",
       "      <td>0</td>\n",
       "      <td>41</td>\n",
       "      <td>1</td>\n",
       "      <td>83807.86</td>\n",
       "      <td>1</td>\n",
       "      <td>0</td>\n",
       "      <td>1</td>\n",
       "      <td>112542.58</td>\n",
       "      <td>0</td>\n",
       "    </tr>\n",
       "    <tr>\n",
       "      <th>2</th>\n",
       "      <td>Onio</td>\n",
       "      <td>502</td>\n",
       "      <td>France</td>\n",
       "      <td>0</td>\n",
       "      <td>42</td>\n",
       "      <td>8</td>\n",
       "      <td>159660.80</td>\n",
       "      <td>3</td>\n",
       "      <td>1</td>\n",
       "      <td>0</td>\n",
       "      <td>113931.57</td>\n",
       "      <td>1</td>\n",
       "    </tr>\n",
       "    <tr>\n",
       "      <th>3</th>\n",
       "      <td>Boni</td>\n",
       "      <td>699</td>\n",
       "      <td>France</td>\n",
       "      <td>0</td>\n",
       "      <td>39</td>\n",
       "      <td>1</td>\n",
       "      <td>0.00</td>\n",
       "      <td>2</td>\n",
       "      <td>0</td>\n",
       "      <td>0</td>\n",
       "      <td>93826.63</td>\n",
       "      <td>0</td>\n",
       "    </tr>\n",
       "    <tr>\n",
       "      <th>4</th>\n",
       "      <td>Mitchell</td>\n",
       "      <td>850</td>\n",
       "      <td>Spain</td>\n",
       "      <td>0</td>\n",
       "      <td>43</td>\n",
       "      <td>2</td>\n",
       "      <td>125510.82</td>\n",
       "      <td>1</td>\n",
       "      <td>1</td>\n",
       "      <td>1</td>\n",
       "      <td>79084.10</td>\n",
       "      <td>0</td>\n",
       "    </tr>\n",
       "  </tbody>\n",
       "</table>\n",
       "</div>"
      ],
      "text/plain": [
       "    Surname  CreditScore Geography  Gender  Age  Tenure    Balance  \\\n",
       "0  Hargrave          619    France       0   42       2       0.00   \n",
       "1      Hill          608     Spain       0   41       1   83807.86   \n",
       "2      Onio          502    France       0   42       8  159660.80   \n",
       "3      Boni          699    France       0   39       1       0.00   \n",
       "4  Mitchell          850     Spain       0   43       2  125510.82   \n",
       "\n",
       "   NumOfProducts  HasCrCard  IsActiveMember  EstimatedSalary  Exited  \n",
       "0              1          1               1        101348.88       1  \n",
       "1              1          0               1        112542.58       0  \n",
       "2              3          1               0        113931.57       1  \n",
       "3              2          0               0         93826.63       0  \n",
       "4              1          1               1         79084.10       0  "
      ]
     },
     "execution_count": 4,
     "metadata": {},
     "output_type": "execute_result"
    }
   ],
   "source": [
    "data = pd.read_csv(\"../input/telco-customer-churn/Churn_Modelling.csv\")\n",
    "data.head()"
   ]
  },
  {
   "cell_type": "markdown",
   "id": "robust-testimony",
   "metadata": {
    "papermill": {
     "duration": 0.029237,
     "end_time": "2021-05-04T03:01:26.406623",
     "exception": false,
     "start_time": "2021-05-04T03:01:26.377386",
     "status": "completed"
    },
    "tags": []
   },
   "source": [
    "## Display basic statistics"
   ]
  },
  {
   "cell_type": "markdown",
   "id": "strange-canyon",
   "metadata": {
    "papermill": {
     "duration": 0.029414,
     "end_time": "2021-05-04T03:01:26.464657",
     "exception": false,
     "start_time": "2021-05-04T03:01:26.435243",
     "status": "completed"
    },
    "tags": []
   },
   "source": [
    "**Display Information (info) about the 'data'**"
   ]
  },
  {
   "cell_type": "code",
   "execution_count": 5,
   "id": "fitted-colors",
   "metadata": {
    "execution": {
     "iopub.execute_input": "2021-05-04T03:01:26.539951Z",
     "iopub.status.busy": "2021-05-04T03:01:26.528960Z",
     "iopub.status.idle": "2021-05-04T03:01:26.544106Z",
     "shell.execute_reply": "2021-05-04T03:01:26.543592Z"
    },
    "papermill": {
     "duration": 0.050862,
     "end_time": "2021-05-04T03:01:26.544231",
     "exception": false,
     "start_time": "2021-05-04T03:01:26.493369",
     "status": "completed"
    },
    "tags": []
   },
   "outputs": [
    {
     "name": "stdout",
     "output_type": "stream",
     "text": [
      "<class 'pandas.core.frame.DataFrame'>\n",
      "RangeIndex: 10000 entries, 0 to 9999\n",
      "Data columns (total 12 columns):\n",
      " #   Column           Non-Null Count  Dtype  \n",
      "---  ------           --------------  -----  \n",
      " 0   Surname          10000 non-null  object \n",
      " 1   CreditScore      10000 non-null  int64  \n",
      " 2   Geography        10000 non-null  object \n",
      " 3   Gender           10000 non-null  int64  \n",
      " 4   Age              10000 non-null  int64  \n",
      " 5   Tenure           10000 non-null  int64  \n",
      " 6   Balance          10000 non-null  float64\n",
      " 7   NumOfProducts    10000 non-null  int64  \n",
      " 8   HasCrCard        10000 non-null  int64  \n",
      " 9   IsActiveMember   10000 non-null  int64  \n",
      " 10  EstimatedSalary  10000 non-null  float64\n",
      " 11  Exited           10000 non-null  int64  \n",
      "dtypes: float64(2), int64(8), object(2)\n",
      "memory usage: 937.6+ KB\n"
     ]
    }
   ],
   "source": [
    "data.info()"
   ]
  },
  {
   "cell_type": "markdown",
   "id": "increasing-french",
   "metadata": {
    "papermill": {
     "duration": 0.029322,
     "end_time": "2021-05-04T03:01:26.602865",
     "exception": false,
     "start_time": "2021-05-04T03:01:26.573543",
     "status": "completed"
    },
    "tags": []
   },
   "source": [
    "<font color='blue'>**COMMENTS :** There is no missing data (all the columns have 10,000 rows)</font>"
   ]
  },
  {
   "cell_type": "markdown",
   "id": "massive-thompson",
   "metadata": {
    "papermill": {
     "duration": 0.030768,
     "end_time": "2021-05-04T03:01:26.662745",
     "exception": false,
     "start_time": "2021-05-04T03:01:26.631977",
     "status": "completed"
    },
    "tags": []
   },
   "source": [
    "**Display basic statistics (description) about the 'data' - numerical**"
   ]
  },
  {
   "cell_type": "code",
   "execution_count": 6,
   "id": "nutritional-fifteen",
   "metadata": {
    "execution": {
     "iopub.execute_input": "2021-05-04T03:01:26.728287Z",
     "iopub.status.busy": "2021-05-04T03:01:26.725595Z",
     "iopub.status.idle": "2021-05-04T03:01:26.759691Z",
     "shell.execute_reply": "2021-05-04T03:01:26.759139Z"
    },
    "papermill": {
     "duration": 0.06727,
     "end_time": "2021-05-04T03:01:26.759795",
     "exception": false,
     "start_time": "2021-05-04T03:01:26.692525",
     "status": "completed"
    },
    "tags": []
   },
   "outputs": [
    {
     "data": {
      "text/html": [
       "<div>\n",
       "<style scoped>\n",
       "    .dataframe tbody tr th:only-of-type {\n",
       "        vertical-align: middle;\n",
       "    }\n",
       "\n",
       "    .dataframe tbody tr th {\n",
       "        vertical-align: top;\n",
       "    }\n",
       "\n",
       "    .dataframe thead th {\n",
       "        text-align: right;\n",
       "    }\n",
       "</style>\n",
       "<table border=\"1\" class=\"dataframe\">\n",
       "  <thead>\n",
       "    <tr style=\"text-align: right;\">\n",
       "      <th></th>\n",
       "      <th>CreditScore</th>\n",
       "      <th>Gender</th>\n",
       "      <th>Age</th>\n",
       "      <th>Tenure</th>\n",
       "      <th>Balance</th>\n",
       "      <th>NumOfProducts</th>\n",
       "      <th>HasCrCard</th>\n",
       "      <th>IsActiveMember</th>\n",
       "      <th>EstimatedSalary</th>\n",
       "      <th>Exited</th>\n",
       "    </tr>\n",
       "  </thead>\n",
       "  <tbody>\n",
       "    <tr>\n",
       "      <th>count</th>\n",
       "      <td>10000.000000</td>\n",
       "      <td>10000.000000</td>\n",
       "      <td>10000.000000</td>\n",
       "      <td>10000.000000</td>\n",
       "      <td>10000.000000</td>\n",
       "      <td>10000.000000</td>\n",
       "      <td>10000.00000</td>\n",
       "      <td>10000.000000</td>\n",
       "      <td>10000.000000</td>\n",
       "      <td>10000.000000</td>\n",
       "    </tr>\n",
       "    <tr>\n",
       "      <th>mean</th>\n",
       "      <td>650.528800</td>\n",
       "      <td>0.545700</td>\n",
       "      <td>38.921800</td>\n",
       "      <td>5.012800</td>\n",
       "      <td>76485.889288</td>\n",
       "      <td>1.530200</td>\n",
       "      <td>0.70550</td>\n",
       "      <td>0.515100</td>\n",
       "      <td>100090.239881</td>\n",
       "      <td>0.203700</td>\n",
       "    </tr>\n",
       "    <tr>\n",
       "      <th>std</th>\n",
       "      <td>96.653299</td>\n",
       "      <td>0.497932</td>\n",
       "      <td>10.487806</td>\n",
       "      <td>2.892174</td>\n",
       "      <td>62397.405202</td>\n",
       "      <td>0.581654</td>\n",
       "      <td>0.45584</td>\n",
       "      <td>0.499797</td>\n",
       "      <td>57510.492818</td>\n",
       "      <td>0.402769</td>\n",
       "    </tr>\n",
       "    <tr>\n",
       "      <th>min</th>\n",
       "      <td>350.000000</td>\n",
       "      <td>0.000000</td>\n",
       "      <td>18.000000</td>\n",
       "      <td>0.000000</td>\n",
       "      <td>0.000000</td>\n",
       "      <td>1.000000</td>\n",
       "      <td>0.00000</td>\n",
       "      <td>0.000000</td>\n",
       "      <td>11.580000</td>\n",
       "      <td>0.000000</td>\n",
       "    </tr>\n",
       "    <tr>\n",
       "      <th>25%</th>\n",
       "      <td>584.000000</td>\n",
       "      <td>0.000000</td>\n",
       "      <td>32.000000</td>\n",
       "      <td>3.000000</td>\n",
       "      <td>0.000000</td>\n",
       "      <td>1.000000</td>\n",
       "      <td>0.00000</td>\n",
       "      <td>0.000000</td>\n",
       "      <td>51002.110000</td>\n",
       "      <td>0.000000</td>\n",
       "    </tr>\n",
       "    <tr>\n",
       "      <th>50%</th>\n",
       "      <td>652.000000</td>\n",
       "      <td>1.000000</td>\n",
       "      <td>37.000000</td>\n",
       "      <td>5.000000</td>\n",
       "      <td>97198.540000</td>\n",
       "      <td>1.000000</td>\n",
       "      <td>1.00000</td>\n",
       "      <td>1.000000</td>\n",
       "      <td>100193.915000</td>\n",
       "      <td>0.000000</td>\n",
       "    </tr>\n",
       "    <tr>\n",
       "      <th>75%</th>\n",
       "      <td>718.000000</td>\n",
       "      <td>1.000000</td>\n",
       "      <td>44.000000</td>\n",
       "      <td>7.000000</td>\n",
       "      <td>127644.240000</td>\n",
       "      <td>2.000000</td>\n",
       "      <td>1.00000</td>\n",
       "      <td>1.000000</td>\n",
       "      <td>149388.247500</td>\n",
       "      <td>0.000000</td>\n",
       "    </tr>\n",
       "    <tr>\n",
       "      <th>max</th>\n",
       "      <td>850.000000</td>\n",
       "      <td>1.000000</td>\n",
       "      <td>92.000000</td>\n",
       "      <td>10.000000</td>\n",
       "      <td>250898.090000</td>\n",
       "      <td>4.000000</td>\n",
       "      <td>1.00000</td>\n",
       "      <td>1.000000</td>\n",
       "      <td>199992.480000</td>\n",
       "      <td>1.000000</td>\n",
       "    </tr>\n",
       "  </tbody>\n",
       "</table>\n",
       "</div>"
      ],
      "text/plain": [
       "        CreditScore        Gender           Age        Tenure        Balance  \\\n",
       "count  10000.000000  10000.000000  10000.000000  10000.000000   10000.000000   \n",
       "mean     650.528800      0.545700     38.921800      5.012800   76485.889288   \n",
       "std       96.653299      0.497932     10.487806      2.892174   62397.405202   \n",
       "min      350.000000      0.000000     18.000000      0.000000       0.000000   \n",
       "25%      584.000000      0.000000     32.000000      3.000000       0.000000   \n",
       "50%      652.000000      1.000000     37.000000      5.000000   97198.540000   \n",
       "75%      718.000000      1.000000     44.000000      7.000000  127644.240000   \n",
       "max      850.000000      1.000000     92.000000     10.000000  250898.090000   \n",
       "\n",
       "       NumOfProducts    HasCrCard  IsActiveMember  EstimatedSalary  \\\n",
       "count   10000.000000  10000.00000    10000.000000     10000.000000   \n",
       "mean        1.530200      0.70550        0.515100    100090.239881   \n",
       "std         0.581654      0.45584        0.499797     57510.492818   \n",
       "min         1.000000      0.00000        0.000000        11.580000   \n",
       "25%         1.000000      0.00000        0.000000     51002.110000   \n",
       "50%         1.000000      1.00000        1.000000    100193.915000   \n",
       "75%         2.000000      1.00000        1.000000    149388.247500   \n",
       "max         4.000000      1.00000        1.000000    199992.480000   \n",
       "\n",
       "             Exited  \n",
       "count  10000.000000  \n",
       "mean       0.203700  \n",
       "std        0.402769  \n",
       "min        0.000000  \n",
       "25%        0.000000  \n",
       "50%        0.000000  \n",
       "75%        0.000000  \n",
       "max        1.000000  "
      ]
     },
     "execution_count": 6,
     "metadata": {},
     "output_type": "execute_result"
    }
   ],
   "source": [
    "data.describe()"
   ]
  },
  {
   "cell_type": "markdown",
   "id": "happy-delhi",
   "metadata": {
    "papermill": {
     "duration": 0.030042,
     "end_time": "2021-05-04T03:01:26.819839",
     "exception": false,
     "start_time": "2021-05-04T03:01:26.789797",
     "status": "completed"
    },
    "tags": []
   },
   "source": [
    "**Display basic statistics (description) about the 'data' - categorical**"
   ]
  },
  {
   "cell_type": "code",
   "execution_count": 7,
   "id": "terminal-timothy",
   "metadata": {
    "execution": {
     "iopub.execute_input": "2021-05-04T03:01:26.886240Z",
     "iopub.status.busy": "2021-05-04T03:01:26.885613Z",
     "iopub.status.idle": "2021-05-04T03:01:26.913596Z",
     "shell.execute_reply": "2021-05-04T03:01:26.914054Z"
    },
    "papermill": {
     "duration": 0.063876,
     "end_time": "2021-05-04T03:01:26.914180",
     "exception": false,
     "start_time": "2021-05-04T03:01:26.850304",
     "status": "completed"
    },
    "tags": []
   },
   "outputs": [
    {
     "data": {
      "text/html": [
       "<div>\n",
       "<style scoped>\n",
       "    .dataframe tbody tr th:only-of-type {\n",
       "        vertical-align: middle;\n",
       "    }\n",
       "\n",
       "    .dataframe tbody tr th {\n",
       "        vertical-align: top;\n",
       "    }\n",
       "\n",
       "    .dataframe thead th {\n",
       "        text-align: right;\n",
       "    }\n",
       "</style>\n",
       "<table border=\"1\" class=\"dataframe\">\n",
       "  <thead>\n",
       "    <tr style=\"text-align: right;\">\n",
       "      <th></th>\n",
       "      <th>Surname</th>\n",
       "      <th>Geography</th>\n",
       "    </tr>\n",
       "  </thead>\n",
       "  <tbody>\n",
       "    <tr>\n",
       "      <th>count</th>\n",
       "      <td>10000</td>\n",
       "      <td>10000</td>\n",
       "    </tr>\n",
       "    <tr>\n",
       "      <th>unique</th>\n",
       "      <td>2932</td>\n",
       "      <td>3</td>\n",
       "    </tr>\n",
       "    <tr>\n",
       "      <th>top</th>\n",
       "      <td>Smith</td>\n",
       "      <td>France</td>\n",
       "    </tr>\n",
       "    <tr>\n",
       "      <th>freq</th>\n",
       "      <td>32</td>\n",
       "      <td>5014</td>\n",
       "    </tr>\n",
       "  </tbody>\n",
       "</table>\n",
       "</div>"
      ],
      "text/plain": [
       "       Surname Geography\n",
       "count    10000     10000\n",
       "unique    2932         3\n",
       "top      Smith    France\n",
       "freq        32      5014"
      ]
     },
     "execution_count": 7,
     "metadata": {},
     "output_type": "execute_result"
    }
   ],
   "source": [
    "data.select_dtypes(include=['object']).describe(include='all')"
   ]
  },
  {
   "cell_type": "markdown",
   "id": "arabic-habitat",
   "metadata": {
    "papermill": {
     "duration": 0.03003,
     "end_time": "2021-05-04T03:01:26.974283",
     "exception": false,
     "start_time": "2021-05-04T03:01:26.944253",
     "status": "completed"
    },
    "tags": []
   },
   "source": [
    "<font color='blue'>**OBSERVATION :** We need to convert above categorical columns to numerical columns</font>"
   ]
  },
  {
   "cell_type": "markdown",
   "id": "administrative-announcement",
   "metadata": {
    "papermill": {
     "duration": 0.030435,
     "end_time": "2021-05-04T03:01:27.035280",
     "exception": false,
     "start_time": "2021-05-04T03:01:27.004845",
     "status": "completed"
    },
    "tags": []
   },
   "source": [
    "## Convert categorical columns to numerical columns"
   ]
  },
  {
   "cell_type": "markdown",
   "id": "prime-incident",
   "metadata": {
    "papermill": {
     "duration": 0.029989,
     "end_time": "2021-05-04T03:01:27.095581",
     "exception": false,
     "start_time": "2021-05-04T03:01:27.065592",
     "status": "completed"
    },
    "tags": []
   },
   "source": [
    "**Convert categorical columns of 'data' to numerical columns**"
   ]
  },
  {
   "cell_type": "code",
   "execution_count": 8,
   "id": "recreational-monaco",
   "metadata": {
    "execution": {
     "iopub.execute_input": "2021-05-04T03:01:27.164925Z",
     "iopub.status.busy": "2021-05-04T03:01:27.164454Z",
     "iopub.status.idle": "2021-05-04T03:01:27.220786Z",
     "shell.execute_reply": "2021-05-04T03:01:27.220345Z"
    },
    "papermill": {
     "duration": 0.094756,
     "end_time": "2021-05-04T03:01:27.220898",
     "exception": false,
     "start_time": "2021-05-04T03:01:27.126142",
     "status": "completed"
    },
    "tags": []
   },
   "outputs": [],
   "source": [
    "data=pd.get_dummies(data)"
   ]
  },
  {
   "cell_type": "code",
   "execution_count": 9,
   "id": "gentle-caution",
   "metadata": {
    "execution": {
     "iopub.execute_input": "2021-05-04T03:01:27.292725Z",
     "iopub.status.busy": "2021-05-04T03:01:27.286099Z",
     "iopub.status.idle": "2021-05-04T03:01:27.306011Z",
     "shell.execute_reply": "2021-05-04T03:01:27.306428Z"
    },
    "papermill": {
     "duration": 0.055261,
     "end_time": "2021-05-04T03:01:27.306568",
     "exception": false,
     "start_time": "2021-05-04T03:01:27.251307",
     "status": "completed"
    },
    "tags": []
   },
   "outputs": [
    {
     "data": {
      "text/html": [
       "<div>\n",
       "<style scoped>\n",
       "    .dataframe tbody tr th:only-of-type {\n",
       "        vertical-align: middle;\n",
       "    }\n",
       "\n",
       "    .dataframe tbody tr th {\n",
       "        vertical-align: top;\n",
       "    }\n",
       "\n",
       "    .dataframe thead th {\n",
       "        text-align: right;\n",
       "    }\n",
       "</style>\n",
       "<table border=\"1\" class=\"dataframe\">\n",
       "  <thead>\n",
       "    <tr style=\"text-align: right;\">\n",
       "      <th></th>\n",
       "      <th>CreditScore</th>\n",
       "      <th>Gender</th>\n",
       "      <th>Age</th>\n",
       "      <th>Tenure</th>\n",
       "      <th>Balance</th>\n",
       "      <th>NumOfProducts</th>\n",
       "      <th>HasCrCard</th>\n",
       "      <th>IsActiveMember</th>\n",
       "      <th>EstimatedSalary</th>\n",
       "      <th>Exited</th>\n",
       "      <th>...</th>\n",
       "      <th>Surname_Zotova</th>\n",
       "      <th>Surname_Zox</th>\n",
       "      <th>Surname_Zubarev</th>\n",
       "      <th>Surname_Zubareva</th>\n",
       "      <th>Surname_Zuev</th>\n",
       "      <th>Surname_Zuyev</th>\n",
       "      <th>Surname_Zuyeva</th>\n",
       "      <th>Geography_France</th>\n",
       "      <th>Geography_Germany</th>\n",
       "      <th>Geography_Spain</th>\n",
       "    </tr>\n",
       "  </thead>\n",
       "  <tbody>\n",
       "    <tr>\n",
       "      <th>0</th>\n",
       "      <td>619</td>\n",
       "      <td>0</td>\n",
       "      <td>42</td>\n",
       "      <td>2</td>\n",
       "      <td>0.00</td>\n",
       "      <td>1</td>\n",
       "      <td>1</td>\n",
       "      <td>1</td>\n",
       "      <td>101348.88</td>\n",
       "      <td>1</td>\n",
       "      <td>...</td>\n",
       "      <td>0</td>\n",
       "      <td>0</td>\n",
       "      <td>0</td>\n",
       "      <td>0</td>\n",
       "      <td>0</td>\n",
       "      <td>0</td>\n",
       "      <td>0</td>\n",
       "      <td>1</td>\n",
       "      <td>0</td>\n",
       "      <td>0</td>\n",
       "    </tr>\n",
       "    <tr>\n",
       "      <th>1</th>\n",
       "      <td>608</td>\n",
       "      <td>0</td>\n",
       "      <td>41</td>\n",
       "      <td>1</td>\n",
       "      <td>83807.86</td>\n",
       "      <td>1</td>\n",
       "      <td>0</td>\n",
       "      <td>1</td>\n",
       "      <td>112542.58</td>\n",
       "      <td>0</td>\n",
       "      <td>...</td>\n",
       "      <td>0</td>\n",
       "      <td>0</td>\n",
       "      <td>0</td>\n",
       "      <td>0</td>\n",
       "      <td>0</td>\n",
       "      <td>0</td>\n",
       "      <td>0</td>\n",
       "      <td>0</td>\n",
       "      <td>0</td>\n",
       "      <td>1</td>\n",
       "    </tr>\n",
       "    <tr>\n",
       "      <th>2</th>\n",
       "      <td>502</td>\n",
       "      <td>0</td>\n",
       "      <td>42</td>\n",
       "      <td>8</td>\n",
       "      <td>159660.80</td>\n",
       "      <td>3</td>\n",
       "      <td>1</td>\n",
       "      <td>0</td>\n",
       "      <td>113931.57</td>\n",
       "      <td>1</td>\n",
       "      <td>...</td>\n",
       "      <td>0</td>\n",
       "      <td>0</td>\n",
       "      <td>0</td>\n",
       "      <td>0</td>\n",
       "      <td>0</td>\n",
       "      <td>0</td>\n",
       "      <td>0</td>\n",
       "      <td>1</td>\n",
       "      <td>0</td>\n",
       "      <td>0</td>\n",
       "    </tr>\n",
       "    <tr>\n",
       "      <th>3</th>\n",
       "      <td>699</td>\n",
       "      <td>0</td>\n",
       "      <td>39</td>\n",
       "      <td>1</td>\n",
       "      <td>0.00</td>\n",
       "      <td>2</td>\n",
       "      <td>0</td>\n",
       "      <td>0</td>\n",
       "      <td>93826.63</td>\n",
       "      <td>0</td>\n",
       "      <td>...</td>\n",
       "      <td>0</td>\n",
       "      <td>0</td>\n",
       "      <td>0</td>\n",
       "      <td>0</td>\n",
       "      <td>0</td>\n",
       "      <td>0</td>\n",
       "      <td>0</td>\n",
       "      <td>1</td>\n",
       "      <td>0</td>\n",
       "      <td>0</td>\n",
       "    </tr>\n",
       "    <tr>\n",
       "      <th>4</th>\n",
       "      <td>850</td>\n",
       "      <td>0</td>\n",
       "      <td>43</td>\n",
       "      <td>2</td>\n",
       "      <td>125510.82</td>\n",
       "      <td>1</td>\n",
       "      <td>1</td>\n",
       "      <td>1</td>\n",
       "      <td>79084.10</td>\n",
       "      <td>0</td>\n",
       "      <td>...</td>\n",
       "      <td>0</td>\n",
       "      <td>0</td>\n",
       "      <td>0</td>\n",
       "      <td>0</td>\n",
       "      <td>0</td>\n",
       "      <td>0</td>\n",
       "      <td>0</td>\n",
       "      <td>0</td>\n",
       "      <td>0</td>\n",
       "      <td>1</td>\n",
       "    </tr>\n",
       "  </tbody>\n",
       "</table>\n",
       "<p>5 rows × 2945 columns</p>\n",
       "</div>"
      ],
      "text/plain": [
       "   CreditScore  Gender  Age  Tenure    Balance  NumOfProducts  HasCrCard  \\\n",
       "0          619       0   42       2       0.00              1          1   \n",
       "1          608       0   41       1   83807.86              1          0   \n",
       "2          502       0   42       8  159660.80              3          1   \n",
       "3          699       0   39       1       0.00              2          0   \n",
       "4          850       0   43       2  125510.82              1          1   \n",
       "\n",
       "   IsActiveMember  EstimatedSalary  Exited  ...  Surname_Zotova  Surname_Zox  \\\n",
       "0               1        101348.88       1  ...               0            0   \n",
       "1               1        112542.58       0  ...               0            0   \n",
       "2               0        113931.57       1  ...               0            0   \n",
       "3               0         93826.63       0  ...               0            0   \n",
       "4               1         79084.10       0  ...               0            0   \n",
       "\n",
       "   Surname_Zubarev  Surname_Zubareva  Surname_Zuev  Surname_Zuyev  \\\n",
       "0                0                 0             0              0   \n",
       "1                0                 0             0              0   \n",
       "2                0                 0             0              0   \n",
       "3                0                 0             0              0   \n",
       "4                0                 0             0              0   \n",
       "\n",
       "   Surname_Zuyeva  Geography_France  Geography_Germany  Geography_Spain  \n",
       "0               0                 1                  0                0  \n",
       "1               0                 0                  0                1  \n",
       "2               0                 1                  0                0  \n",
       "3               0                 1                  0                0  \n",
       "4               0                 0                  0                1  \n",
       "\n",
       "[5 rows x 2945 columns]"
      ]
     },
     "execution_count": 9,
     "metadata": {},
     "output_type": "execute_result"
    }
   ],
   "source": [
    "data.head()"
   ]
  },
  {
   "cell_type": "markdown",
   "id": "tracked-biodiversity",
   "metadata": {
    "papermill": {
     "duration": 0.030312,
     "end_time": "2021-05-04T03:01:27.367638",
     "exception": false,
     "start_time": "2021-05-04T03:01:27.337326",
     "status": "completed"
    },
    "tags": []
   },
   "source": [
    "<font color='blue'>**COMMENTS :** It can be observed additional columns are formed after converting from categorical to numerical columns</font>"
   ]
  },
  {
   "cell_type": "code",
   "execution_count": 10,
   "id": "answering-palace",
   "metadata": {
    "execution": {
     "iopub.execute_input": "2021-05-04T03:01:27.433068Z",
     "iopub.status.busy": "2021-05-04T03:01:27.432454Z",
     "iopub.status.idle": "2021-05-04T03:01:27.435412Z",
     "shell.execute_reply": "2021-05-04T03:01:27.434851Z"
    },
    "papermill": {
     "duration": 0.037678,
     "end_time": "2021-05-04T03:01:27.435534",
     "exception": false,
     "start_time": "2021-05-04T03:01:27.397856",
     "status": "completed"
    },
    "tags": []
   },
   "outputs": [
    {
     "data": {
      "text/plain": [
       "(10000, 2945)"
      ]
     },
     "execution_count": 10,
     "metadata": {},
     "output_type": "execute_result"
    }
   ],
   "source": [
    "data.shape"
   ]
  },
  {
   "cell_type": "markdown",
   "id": "useful-horizon",
   "metadata": {
    "papermill": {
     "duration": 0.048973,
     "end_time": "2021-05-04T03:01:27.532954",
     "exception": false,
     "start_time": "2021-05-04T03:01:27.483981",
     "status": "completed"
    },
    "tags": []
   },
   "source": [
    "<font color='blue'>**COMMENTS :** It can be observed that original 12 columns have now become 2945 columns after converting from categorical to numerical columns</font>"
   ]
  },
  {
   "cell_type": "markdown",
   "id": "certified-saver",
   "metadata": {
    "papermill": {
     "duration": 0.048631,
     "end_time": "2021-05-04T03:01:27.631129",
     "exception": false,
     "start_time": "2021-05-04T03:01:27.582498",
     "status": "completed"
    },
    "tags": []
   },
   "source": [
    "## Create feature and target set"
   ]
  },
  {
   "cell_type": "markdown",
   "id": "norwegian-muslim",
   "metadata": {
    "papermill": {
     "duration": 0.049332,
     "end_time": "2021-05-04T03:01:27.730905",
     "exception": false,
     "start_time": "2021-05-04T03:01:27.681573",
     "status": "completed"
    },
    "tags": []
   },
   "source": [
    "**Remove 'Exited' column from Feature set(X) and create Target set(y) with 'price' column**"
   ]
  },
  {
   "cell_type": "code",
   "execution_count": 11,
   "id": "dangerous-thermal",
   "metadata": {
    "execution": {
     "iopub.execute_input": "2021-05-04T03:01:27.835456Z",
     "iopub.status.busy": "2021-05-04T03:01:27.834814Z",
     "iopub.status.idle": "2021-05-04T03:01:27.859730Z",
     "shell.execute_reply": "2021-05-04T03:01:27.859329Z"
    },
    "papermill": {
     "duration": 0.079904,
     "end_time": "2021-05-04T03:01:27.859884",
     "exception": false,
     "start_time": "2021-05-04T03:01:27.779980",
     "status": "completed"
    },
    "tags": []
   },
   "outputs": [],
   "source": [
    "#Create a training set by dropping target column\n",
    "X = data.drop('Exited',axis = 1) \n",
    "\n",
    "#Create the target set (output)\n",
    "y = data.Exited"
   ]
  },
  {
   "cell_type": "code",
   "execution_count": 12,
   "id": "japanese-survivor",
   "metadata": {
    "execution": {
     "iopub.execute_input": "2021-05-04T03:01:27.937355Z",
     "iopub.status.busy": "2021-05-04T03:01:27.936870Z",
     "iopub.status.idle": "2021-05-04T03:01:27.948685Z",
     "shell.execute_reply": "2021-05-04T03:01:27.948241Z"
    },
    "papermill": {
     "duration": 0.056893,
     "end_time": "2021-05-04T03:01:27.948794",
     "exception": false,
     "start_time": "2021-05-04T03:01:27.891901",
     "status": "completed"
    },
    "tags": []
   },
   "outputs": [
    {
     "data": {
      "text/html": [
       "<div>\n",
       "<style scoped>\n",
       "    .dataframe tbody tr th:only-of-type {\n",
       "        vertical-align: middle;\n",
       "    }\n",
       "\n",
       "    .dataframe tbody tr th {\n",
       "        vertical-align: top;\n",
       "    }\n",
       "\n",
       "    .dataframe thead th {\n",
       "        text-align: right;\n",
       "    }\n",
       "</style>\n",
       "<table border=\"1\" class=\"dataframe\">\n",
       "  <thead>\n",
       "    <tr style=\"text-align: right;\">\n",
       "      <th></th>\n",
       "      <th>CreditScore</th>\n",
       "      <th>Gender</th>\n",
       "      <th>Age</th>\n",
       "      <th>Tenure</th>\n",
       "      <th>Balance</th>\n",
       "      <th>NumOfProducts</th>\n",
       "      <th>HasCrCard</th>\n",
       "      <th>IsActiveMember</th>\n",
       "      <th>EstimatedSalary</th>\n",
       "      <th>Surname_Abazu</th>\n",
       "      <th>...</th>\n",
       "      <th>Surname_Zotova</th>\n",
       "      <th>Surname_Zox</th>\n",
       "      <th>Surname_Zubarev</th>\n",
       "      <th>Surname_Zubareva</th>\n",
       "      <th>Surname_Zuev</th>\n",
       "      <th>Surname_Zuyev</th>\n",
       "      <th>Surname_Zuyeva</th>\n",
       "      <th>Geography_France</th>\n",
       "      <th>Geography_Germany</th>\n",
       "      <th>Geography_Spain</th>\n",
       "    </tr>\n",
       "  </thead>\n",
       "  <tbody>\n",
       "    <tr>\n",
       "      <th>0</th>\n",
       "      <td>619</td>\n",
       "      <td>0</td>\n",
       "      <td>42</td>\n",
       "      <td>2</td>\n",
       "      <td>0.00</td>\n",
       "      <td>1</td>\n",
       "      <td>1</td>\n",
       "      <td>1</td>\n",
       "      <td>101348.88</td>\n",
       "      <td>0</td>\n",
       "      <td>...</td>\n",
       "      <td>0</td>\n",
       "      <td>0</td>\n",
       "      <td>0</td>\n",
       "      <td>0</td>\n",
       "      <td>0</td>\n",
       "      <td>0</td>\n",
       "      <td>0</td>\n",
       "      <td>1</td>\n",
       "      <td>0</td>\n",
       "      <td>0</td>\n",
       "    </tr>\n",
       "    <tr>\n",
       "      <th>1</th>\n",
       "      <td>608</td>\n",
       "      <td>0</td>\n",
       "      <td>41</td>\n",
       "      <td>1</td>\n",
       "      <td>83807.86</td>\n",
       "      <td>1</td>\n",
       "      <td>0</td>\n",
       "      <td>1</td>\n",
       "      <td>112542.58</td>\n",
       "      <td>0</td>\n",
       "      <td>...</td>\n",
       "      <td>0</td>\n",
       "      <td>0</td>\n",
       "      <td>0</td>\n",
       "      <td>0</td>\n",
       "      <td>0</td>\n",
       "      <td>0</td>\n",
       "      <td>0</td>\n",
       "      <td>0</td>\n",
       "      <td>0</td>\n",
       "      <td>1</td>\n",
       "    </tr>\n",
       "    <tr>\n",
       "      <th>2</th>\n",
       "      <td>502</td>\n",
       "      <td>0</td>\n",
       "      <td>42</td>\n",
       "      <td>8</td>\n",
       "      <td>159660.80</td>\n",
       "      <td>3</td>\n",
       "      <td>1</td>\n",
       "      <td>0</td>\n",
       "      <td>113931.57</td>\n",
       "      <td>0</td>\n",
       "      <td>...</td>\n",
       "      <td>0</td>\n",
       "      <td>0</td>\n",
       "      <td>0</td>\n",
       "      <td>0</td>\n",
       "      <td>0</td>\n",
       "      <td>0</td>\n",
       "      <td>0</td>\n",
       "      <td>1</td>\n",
       "      <td>0</td>\n",
       "      <td>0</td>\n",
       "    </tr>\n",
       "    <tr>\n",
       "      <th>3</th>\n",
       "      <td>699</td>\n",
       "      <td>0</td>\n",
       "      <td>39</td>\n",
       "      <td>1</td>\n",
       "      <td>0.00</td>\n",
       "      <td>2</td>\n",
       "      <td>0</td>\n",
       "      <td>0</td>\n",
       "      <td>93826.63</td>\n",
       "      <td>0</td>\n",
       "      <td>...</td>\n",
       "      <td>0</td>\n",
       "      <td>0</td>\n",
       "      <td>0</td>\n",
       "      <td>0</td>\n",
       "      <td>0</td>\n",
       "      <td>0</td>\n",
       "      <td>0</td>\n",
       "      <td>1</td>\n",
       "      <td>0</td>\n",
       "      <td>0</td>\n",
       "    </tr>\n",
       "    <tr>\n",
       "      <th>4</th>\n",
       "      <td>850</td>\n",
       "      <td>0</td>\n",
       "      <td>43</td>\n",
       "      <td>2</td>\n",
       "      <td>125510.82</td>\n",
       "      <td>1</td>\n",
       "      <td>1</td>\n",
       "      <td>1</td>\n",
       "      <td>79084.10</td>\n",
       "      <td>0</td>\n",
       "      <td>...</td>\n",
       "      <td>0</td>\n",
       "      <td>0</td>\n",
       "      <td>0</td>\n",
       "      <td>0</td>\n",
       "      <td>0</td>\n",
       "      <td>0</td>\n",
       "      <td>0</td>\n",
       "      <td>0</td>\n",
       "      <td>0</td>\n",
       "      <td>1</td>\n",
       "    </tr>\n",
       "  </tbody>\n",
       "</table>\n",
       "<p>5 rows × 2944 columns</p>\n",
       "</div>"
      ],
      "text/plain": [
       "   CreditScore  Gender  Age  Tenure    Balance  NumOfProducts  HasCrCard  \\\n",
       "0          619       0   42       2       0.00              1          1   \n",
       "1          608       0   41       1   83807.86              1          0   \n",
       "2          502       0   42       8  159660.80              3          1   \n",
       "3          699       0   39       1       0.00              2          0   \n",
       "4          850       0   43       2  125510.82              1          1   \n",
       "\n",
       "   IsActiveMember  EstimatedSalary  Surname_Abazu  ...  Surname_Zotova  \\\n",
       "0               1        101348.88              0  ...               0   \n",
       "1               1        112542.58              0  ...               0   \n",
       "2               0        113931.57              0  ...               0   \n",
       "3               0         93826.63              0  ...               0   \n",
       "4               1         79084.10              0  ...               0   \n",
       "\n",
       "   Surname_Zox  Surname_Zubarev  Surname_Zubareva  Surname_Zuev  \\\n",
       "0            0                0                 0             0   \n",
       "1            0                0                 0             0   \n",
       "2            0                0                 0             0   \n",
       "3            0                0                 0             0   \n",
       "4            0                0                 0             0   \n",
       "\n",
       "   Surname_Zuyev  Surname_Zuyeva  Geography_France  Geography_Germany  \\\n",
       "0              0               0                 1                  0   \n",
       "1              0               0                 0                  0   \n",
       "2              0               0                 1                  0   \n",
       "3              0               0                 1                  0   \n",
       "4              0               0                 0                  0   \n",
       "\n",
       "   Geography_Spain  \n",
       "0                0  \n",
       "1                1  \n",
       "2                0  \n",
       "3                0  \n",
       "4                1  \n",
       "\n",
       "[5 rows x 2944 columns]"
      ]
     },
     "execution_count": 12,
     "metadata": {},
     "output_type": "execute_result"
    }
   ],
   "source": [
    "X.head()"
   ]
  },
  {
   "cell_type": "markdown",
   "id": "alternate-fault",
   "metadata": {
    "papermill": {
     "duration": 0.031811,
     "end_time": "2021-05-04T03:01:28.013138",
     "exception": false,
     "start_time": "2021-05-04T03:01:27.981327",
     "status": "completed"
    },
    "tags": []
   },
   "source": [
    "## Scaling the data values to standardize the range of independent variables"
   ]
  },
  {
   "cell_type": "markdown",
   "id": "breeding-pizza",
   "metadata": {
    "papermill": {
     "duration": 0.031712,
     "end_time": "2021-05-04T03:01:28.077106",
     "exception": false,
     "start_time": "2021-05-04T03:01:28.045394",
     "status": "completed"
    },
    "tags": []
   },
   "source": [
    "**Normalize the feature set X**"
   ]
  },
  {
   "cell_type": "code",
   "execution_count": 13,
   "id": "structural-letter",
   "metadata": {
    "execution": {
     "iopub.execute_input": "2021-05-04T03:01:28.162661Z",
     "iopub.status.busy": "2021-05-04T03:01:28.162167Z",
     "iopub.status.idle": "2021-05-04T03:01:28.602460Z",
     "shell.execute_reply": "2021-05-04T03:01:28.602811Z"
    },
    "papermill": {
     "duration": 0.494427,
     "end_time": "2021-05-04T03:01:28.602948",
     "exception": false,
     "start_time": "2021-05-04T03:01:28.108521",
     "status": "completed"
    },
    "tags": []
   },
   "outputs": [],
   "source": [
    "#Feature scaling is a method used to standardize the range of independent variables or features of data.\n",
    "#Since the range of values of raw data varies widely, in some machine learning algorithms, objective functions will not work properly without normalization. \n",
    "from sklearn.preprocessing import StandardScaler\n",
    "scale = StandardScaler()\n",
    "X = scale.fit_transform(X)"
   ]
  },
  {
   "cell_type": "code",
   "execution_count": 14,
   "id": "legislative-teacher",
   "metadata": {
    "execution": {
     "iopub.execute_input": "2021-05-04T03:01:28.692170Z",
     "iopub.status.busy": "2021-05-04T03:01:28.691021Z",
     "iopub.status.idle": "2021-05-04T03:01:28.696542Z",
     "shell.execute_reply": "2021-05-04T03:01:28.695744Z"
    },
    "papermill": {
     "duration": 0.062003,
     "end_time": "2021-05-04T03:01:28.696704",
     "exception": false,
     "start_time": "2021-05-04T03:01:28.634701",
     "status": "completed"
    },
    "tags": []
   },
   "outputs": [
    {
     "name": "stdout",
     "output_type": "stream",
     "text": [
      "[[-0.32622142 -1.09598752  0.29351742 ...  0.99720391 -0.57873591\n",
      "  -0.57380915]\n",
      " [-0.44003595 -1.09598752  0.19816383 ... -1.00280393 -0.57873591\n",
      "   1.74273971]\n",
      " [-1.53679418 -1.09598752  0.29351742 ...  0.99720391 -0.57873591\n",
      "  -0.57380915]\n",
      " ...\n",
      " [ 0.60498839 -1.09598752 -0.27860412 ...  0.99720391 -0.57873591\n",
      "  -0.57380915]\n",
      " [ 1.25683526  0.91241915  0.29351742 ... -1.00280393  1.72790383\n",
      "  -0.57380915]\n",
      " [ 1.46377078 -1.09598752 -1.04143285 ...  0.99720391 -0.57873591\n",
      "  -0.57380915]]\n"
     ]
    }
   ],
   "source": [
    "print(X)"
   ]
  },
  {
   "cell_type": "markdown",
   "id": "relevant-strike",
   "metadata": {
    "papermill": {
     "duration": 0.032992,
     "end_time": "2021-05-04T03:01:28.782129",
     "exception": false,
     "start_time": "2021-05-04T03:01:28.749137",
     "status": "completed"
    },
    "tags": []
   },
   "source": [
    "<font color='blue'>**COMMENTS :** It can be observed that range of values is normalized</font>"
   ]
  },
  {
   "cell_type": "markdown",
   "id": "based-heavy",
   "metadata": {
    "papermill": {
     "duration": 0.032839,
     "end_time": "2021-05-04T03:01:28.848035",
     "exception": false,
     "start_time": "2021-05-04T03:01:28.815196",
     "status": "completed"
    },
    "tags": []
   },
   "source": [
    "## Split the data into \"train\" and \"test\" set"
   ]
  },
  {
   "cell_type": "markdown",
   "id": "aware-skiing",
   "metadata": {
    "papermill": {
     "duration": 0.032391,
     "end_time": "2021-05-04T03:01:28.913764",
     "exception": false,
     "start_time": "2021-05-04T03:01:28.881373",
     "status": "completed"
    },
    "tags": []
   },
   "source": [
    "**Split the Feature set (X) and Target set (y) into training set (X_train, y_train) and testing set (X_test,y_test)**"
   ]
  },
  {
   "cell_type": "code",
   "execution_count": 15,
   "id": "recognized-calgary",
   "metadata": {
    "execution": {
     "iopub.execute_input": "2021-05-04T03:01:28.985321Z",
     "iopub.status.busy": "2021-05-04T03:01:28.984805Z",
     "iopub.status.idle": "2021-05-04T03:01:29.193134Z",
     "shell.execute_reply": "2021-05-04T03:01:29.192713Z"
    },
    "papermill": {
     "duration": 0.246008,
     "end_time": "2021-05-04T03:01:29.193270",
     "exception": false,
     "start_time": "2021-05-04T03:01:28.947262",
     "status": "completed"
    },
    "tags": []
   },
   "outputs": [
    {
     "name": "stdout",
     "output_type": "stream",
     "text": [
      "X_train size ==> (7000, 2944)\n",
      "X_test size ==> (3000, 2944)\n"
     ]
    }
   ],
   "source": [
    "# Split dataset into training set and test set\n",
    "X_train, X_test, y_train, y_test = train_test_split(X, y, test_size=0.3) # 70% training and 30% test\n",
    "print(\"X_train size ==>\", X_train.shape)\n",
    "print(\"X_test size ==>\", X_test.shape)"
   ]
  },
  {
   "cell_type": "markdown",
   "id": "creative-toilet",
   "metadata": {
    "papermill": {
     "duration": 0.033204,
     "end_time": "2021-05-04T03:01:29.262587",
     "exception": false,
     "start_time": "2021-05-04T03:01:29.229383",
     "status": "completed"
    },
    "tags": []
   },
   "source": [
    "<font color='blue'>**COMMENTS :** Total data (10,000 rows) is divided into Training set(7,000 rows) and Testing set (3,000 rows)</font>"
   ]
  },
  {
   "cell_type": "markdown",
   "id": "juvenile-address",
   "metadata": {
    "papermill": {
     "duration": 0.033753,
     "end_time": "2021-05-04T03:01:29.330581",
     "exception": false,
     "start_time": "2021-05-04T03:01:29.296828",
     "status": "completed"
    },
    "tags": []
   },
   "source": [
    "## <font color='blue'>Support Vector Machine (SVM) ML model</font>"
   ]
  },
  {
   "cell_type": "code",
   "execution_count": 16,
   "id": "answering-serial",
   "metadata": {
    "execution": {
     "iopub.execute_input": "2021-05-04T03:01:29.404118Z",
     "iopub.status.busy": "2021-05-04T03:01:29.403648Z",
     "iopub.status.idle": "2021-05-04T03:02:38.278030Z",
     "shell.execute_reply": "2021-05-04T03:02:38.277630Z"
    },
    "papermill": {
     "duration": 68.913329,
     "end_time": "2021-05-04T03:02:38.278128",
     "exception": false,
     "start_time": "2021-05-04T03:01:29.364799",
     "status": "completed"
    },
    "tags": []
   },
   "outputs": [
    {
     "data": {
      "image/png": "[encoded data removed]",
      "text/plain": [
       "<Figure size 432x288 with 1 Axes>"
      ]
     },
     "metadata": {
      "needs_background": "light"
     },
     "output_type": "display_data"
    },
    {
     "name": "stdout",
     "output_type": "stream",
     "text": [
      "601\n",
      "Accuracy of the Model SVC 78.3%\n"
     ]
    }
   ],
   "source": [
    "from sklearn.svm import SVC,NuSVC  #Import packages related to Model\n",
    "Model = \"SVC\"\n",
    "model=SVC() #Create the Model\n",
    "\n",
    "train_test_ml_model(X_train,y_train,X_test,Model)"
   ]
  },
  {
   "cell_type": "markdown",
   "id": "hawaiian-hometown",
   "metadata": {
    "papermill": {
     "duration": 0.033698,
     "end_time": "2021-05-04T03:02:38.345734",
     "exception": false,
     "start_time": "2021-05-04T03:02:38.312036",
     "status": "completed"
    },
    "tags": []
   },
   "source": [
    "## <font color='blue'>XG Boost Classifer ML model</font>"
   ]
  },
  {
   "cell_type": "code",
   "execution_count": 17,
   "id": "joined-victoria",
   "metadata": {
    "execution": {
     "iopub.execute_input": "2021-05-04T03:02:38.418891Z",
     "iopub.status.busy": "2021-05-04T03:02:38.418400Z",
     "iopub.status.idle": "2021-05-04T03:03:02.891792Z",
     "shell.execute_reply": "2021-05-04T03:03:02.891330Z"
    },
    "papermill": {
     "duration": 24.512272,
     "end_time": "2021-05-04T03:03:02.891913",
     "exception": false,
     "start_time": "2021-05-04T03:02:38.379641",
     "status": "completed"
    },
    "tags": []
   },
   "outputs": [
    {
     "name": "stdout",
     "output_type": "stream",
     "text": [
      "[03:02:39] WARNING: ../src/learner.cc:1061: Starting in XGBoost 1.3.0, the default evaluation metric used with the objective 'binary:logistic' was changed from 'error' to 'logloss'. Explicitly set eval_metric if you'd like to restore the old behavior.\n"
     ]
    },
    {
     "data": {
      "image/png": "[encoded data removed]",
      "text/plain": [
       "<Figure size 432x288 with 1 Axes>"
      ]
     },
     "metadata": {
      "needs_background": "light"
     },
     "output_type": "display_data"
    },
    {
     "name": "stdout",
     "output_type": "stream",
     "text": [
      "314\n",
      "Accuracy of the Model XGBClassifier() 85.5%\n"
     ]
    }
   ],
   "source": [
    "from xgboost import XGBClassifier  #Import packages related to Model\n",
    "Model = \"XGBClassifier()\"\n",
    "model=XGBClassifier() #Create the Model\n",
    "\n",
    "train_test_ml_model(X_train,y_train,X_test,Model)"
   ]
  },
  {
   "cell_type": "markdown",
   "id": "united-guard",
   "metadata": {
    "papermill": {
     "duration": 0.035084,
     "end_time": "2021-05-04T03:03:02.962518",
     "exception": false,
     "start_time": "2021-05-04T03:03:02.927434",
     "status": "completed"
    },
    "tags": []
   },
   "source": [
    "## <font color='blue'>Gaussian Naive Bayes ML model</font>"
   ]
  },
  {
   "cell_type": "code",
   "execution_count": 18,
   "id": "sonic-choice",
   "metadata": {
    "execution": {
     "iopub.execute_input": "2021-05-04T03:03:03.038155Z",
     "iopub.status.busy": "2021-05-04T03:03:03.037674Z",
     "iopub.status.idle": "2021-05-04T03:03:03.387179Z",
     "shell.execute_reply": "2021-05-04T03:03:03.386789Z"
    },
    "papermill": {
     "duration": 0.389142,
     "end_time": "2021-05-04T03:03:03.387307",
     "exception": false,
     "start_time": "2021-05-04T03:03:02.998165",
     "status": "completed"
    },
    "tags": []
   },
   "outputs": [
    {
     "data": {
      "image/png": "[encoded data removed]",
      "text/plain": [
       "<Figure size 432x288 with 1 Axes>"
      ]
     },
     "metadata": {
      "needs_background": "light"
     },
     "output_type": "display_data"
    },
    {
     "name": "stdout",
     "output_type": "stream",
     "text": [
      "173\n",
      "Accuracy of the Model GaussianNB 34.3%\n"
     ]
    }
   ],
   "source": [
    "from sklearn.naive_bayes import GaussianNB,MultinomialNB  #Import packages related to Model\n",
    "Model = \"GaussianNB\"\n",
    "model=GaussianNB()\n",
    "\n",
    "train_test_ml_model(X_train,y_train,X_test,Model)"
   ]
  },
  {
   "cell_type": "markdown",
   "id": "blank-impact",
   "metadata": {
    "papermill": {
     "duration": 0.035914,
     "end_time": "2021-05-04T03:03:03.459761",
     "exception": false,
     "start_time": "2021-05-04T03:03:03.423847",
     "status": "completed"
    },
    "tags": []
   },
   "source": [
    "## <font color='blue'>SGD Classifier ML model</font>"
   ]
  },
  {
   "cell_type": "code",
   "execution_count": 19,
   "id": "dried-shepherd",
   "metadata": {
    "execution": {
     "iopub.execute_input": "2021-05-04T03:03:03.536625Z",
     "iopub.status.busy": "2021-05-04T03:03:03.535771Z",
     "iopub.status.idle": "2021-05-04T03:03:10.562168Z",
     "shell.execute_reply": "2021-05-04T03:03:10.562873Z"
    },
    "papermill": {
     "duration": 7.067463,
     "end_time": "2021-05-04T03:03:10.563057",
     "exception": false,
     "start_time": "2021-05-04T03:03:03.495594",
     "status": "completed"
    },
    "tags": []
   },
   "outputs": [
    {
     "data": {
      "image/png": "[encoded data removed]",
      "text/plain": [
       "<Figure size 432x288 with 1 Axes>"
      ]
     },
     "metadata": {
      "needs_background": "light"
     },
     "output_type": "display_data"
    },
    {
     "name": "stdout",
     "output_type": "stream",
     "text": [
      "459\n",
      "Accuracy of the Model SGDClassifier 75.0%\n"
     ]
    }
   ],
   "source": [
    "from sklearn.linear_model import SGDClassifier #Import packages related to Model\n",
    "Model = \"SGDClassifier\"\n",
    "model=SGDClassifier()\n",
    "\n",
    "train_test_ml_model(X_train,y_train,X_test,Model)"
   ]
  },
  {
   "cell_type": "markdown",
   "id": "changed-third",
   "metadata": {
    "papermill": {
     "duration": 0.036558,
     "end_time": "2021-05-04T03:03:10.638851",
     "exception": false,
     "start_time": "2021-05-04T03:03:10.602293",
     "status": "completed"
    },
    "tags": []
   },
   "source": [
    "## <font color='blue'>Logistic Regression) ML model</font>"
   ]
  },
  {
   "cell_type": "code",
   "execution_count": 20,
   "id": "coral-interface",
   "metadata": {
    "execution": {
     "iopub.execute_input": "2021-05-04T03:03:10.718258Z",
     "iopub.status.busy": "2021-05-04T03:03:10.717625Z",
     "iopub.status.idle": "2021-05-04T03:03:11.910201Z",
     "shell.execute_reply": "2021-05-04T03:03:11.910867Z"
    },
    "papermill": {
     "duration": 1.235719,
     "end_time": "2021-05-04T03:03:11.911044",
     "exception": false,
     "start_time": "2021-05-04T03:03:10.675325",
     "status": "completed"
    },
    "tags": []
   },
   "outputs": [
    {
     "data": {
      "image/png": "[encoded data removed]",
      "text/plain": [
       "<Figure size 432x288 with 1 Axes>"
      ]
     },
     "metadata": {
      "needs_background": "light"
     },
     "output_type": "display_data"
    },
    {
     "name": "stdout",
     "output_type": "stream",
     "text": [
      "480\n",
      "Accuracy of the Model LogisticRegression 77.1%\n"
     ]
    }
   ],
   "source": [
    "from sklearn.linear_model import LogisticRegression #Import packages related to Model\n",
    "Model = \"LogisticRegression\"\n",
    "model=LogisticRegression()\n",
    "\n",
    "train_test_ml_model(X_train,y_train,X_test,Model)"
   ]
  },
  {
   "cell_type": "markdown",
   "id": "hybrid-sleep",
   "metadata": {
    "papermill": {
     "duration": 0.057933,
     "end_time": "2021-05-04T03:03:12.030307",
     "exception": false,
     "start_time": "2021-05-04T03:03:11.972374",
     "status": "completed"
    },
    "tags": []
   },
   "source": [
    "## <font color='blue'>Decision Tree Classifier ML model</font>"
   ]
  },
  {
   "cell_type": "code",
   "execution_count": 21,
   "id": "professional-seeker",
   "metadata": {
    "execution": {
     "iopub.execute_input": "2021-05-04T03:03:12.152379Z",
     "iopub.status.busy": "2021-05-04T03:03:12.151711Z",
     "iopub.status.idle": "2021-05-04T03:03:13.827158Z",
     "shell.execute_reply": "2021-05-04T03:03:13.826703Z"
    },
    "papermill": {
     "duration": 1.738401,
     "end_time": "2021-05-04T03:03:13.827285",
     "exception": false,
     "start_time": "2021-05-04T03:03:12.088884",
     "status": "completed"
    },
    "tags": []
   },
   "outputs": [
    {
     "data": {
      "image/png": "[encoded data removed]",
      "text/plain": [
       "<Figure size 432x288 with 1 Axes>"
      ]
     },
     "metadata": {
      "needs_background": "light"
     },
     "output_type": "display_data"
    },
    {
     "name": "stdout",
     "output_type": "stream",
     "text": [
      "305\n",
      "Accuracy of the Model DecisionTreeClassifier 82.0%\n"
     ]
    }
   ],
   "source": [
    "from sklearn.tree import DecisionTreeClassifier #Import packages related to Model\n",
    "Model = \"DecisionTreeClassifier\"\n",
    "model=DecisionTreeClassifier()\n",
    "\n",
    "train_test_ml_model(X_train,y_train,X_test,Model)"
   ]
  },
  {
   "cell_type": "markdown",
   "id": "final-cherry",
   "metadata": {
    "papermill": {
     "duration": 0.039127,
     "end_time": "2021-05-04T03:03:13.906510",
     "exception": false,
     "start_time": "2021-05-04T03:03:13.867383",
     "status": "completed"
    },
    "tags": []
   },
   "source": [
    "## <font color='blue'>Extra Tree Classifier ML model</font>"
   ]
  },
  {
   "cell_type": "code",
   "execution_count": 22,
   "id": "medical-saskatchewan",
   "metadata": {
    "execution": {
     "iopub.execute_input": "2021-05-04T03:03:13.991341Z",
     "iopub.status.busy": "2021-05-04T03:03:13.990669Z",
     "iopub.status.idle": "2021-05-04T03:03:14.261067Z",
     "shell.execute_reply": "2021-05-04T03:03:14.261795Z"
    },
    "papermill": {
     "duration": 0.31519,
     "end_time": "2021-05-04T03:03:14.261976",
     "exception": false,
     "start_time": "2021-05-04T03:03:13.946786",
     "status": "completed"
    },
    "tags": []
   },
   "outputs": [
    {
     "data": {
      "image/png": "[encoded data removed]",
      "text/plain": [
       "<Figure size 432x288 with 1 Axes>"
      ]
     },
     "metadata": {
      "needs_background": "light"
     },
     "output_type": "display_data"
    },
    {
     "name": "stdout",
     "output_type": "stream",
     "text": [
      "435\n",
      "Accuracy of the Model ExtraTreeClassifier 76.8%\n"
     ]
    }
   ],
   "source": [
    "from sklearn.tree import ExtraTreeClassifier #Import packages related to Model\n",
    "Model = \"ExtraTreeClassifier\"\n",
    "model=ExtraTreeClassifier()\n",
    "\n",
    "train_test_ml_model(X_train,y_train,X_test,Model)"
   ]
  },
  {
   "cell_type": "markdown",
   "id": "spatial-scale",
   "metadata": {
    "papermill": {
     "duration": 0.060788,
     "end_time": "2021-05-04T03:03:14.384663",
     "exception": false,
     "start_time": "2021-05-04T03:03:14.323875",
     "status": "completed"
    },
    "tags": []
   },
   "source": [
    "## <font color='blue'>Quadratic Discriminant Analysis ML model</font>"
   ]
  },
  {
   "cell_type": "code",
   "execution_count": 23,
   "id": "static-agent",
   "metadata": {
    "execution": {
     "iopub.execute_input": "2021-05-04T03:03:14.510421Z",
     "iopub.status.busy": "2021-05-04T03:03:14.509923Z",
     "iopub.status.idle": "2021-05-04T03:03:28.874087Z",
     "shell.execute_reply": "2021-05-04T03:03:28.873566Z"
    },
    "papermill": {
     "duration": 14.428655,
     "end_time": "2021-05-04T03:03:28.874230",
     "exception": false,
     "start_time": "2021-05-04T03:03:14.445575",
     "status": "completed"
    },
    "tags": []
   },
   "outputs": [
    {
     "data": {
      "image/png": "[encoded data removed]",
      "text/plain": [
       "<Figure size 432x288 with 1 Axes>"
      ]
     },
     "metadata": {
      "needs_background": "light"
     },
     "output_type": "display_data"
    },
    {
     "name": "stdout",
     "output_type": "stream",
     "text": [
      "506\n",
      "Accuracy of the Model QuadraticDiscriminantAnalysis 68.8%\n"
     ]
    }
   ],
   "source": [
    "from sklearn.discriminant_analysis import QuadraticDiscriminantAnalysis #Import packages related to Model\n",
    "Model = \"QuadraticDiscriminantAnalysis\"\n",
    "model = QuadraticDiscriminantAnalysis()\n",
    "\n",
    "train_test_ml_model(X_train,y_train,X_test,Model)"
   ]
  },
  {
   "cell_type": "markdown",
   "id": "chinese-alias",
   "metadata": {
    "papermill": {
     "duration": 0.060884,
     "end_time": "2021-05-04T03:03:28.996478",
     "exception": false,
     "start_time": "2021-05-04T03:03:28.935594",
     "status": "completed"
    },
    "tags": []
   },
   "source": [
    "## <font color='blue'>Liner Discriminant Analysis ML model</font>"
   ]
  },
  {
   "cell_type": "code",
   "execution_count": 24,
   "id": "psychological-adventure",
   "metadata": {
    "execution": {
     "iopub.execute_input": "2021-05-04T03:03:29.123961Z",
     "iopub.status.busy": "2021-05-04T03:03:29.123393Z",
     "iopub.status.idle": "2021-05-04T03:03:42.919836Z",
     "shell.execute_reply": "2021-05-04T03:03:42.919387Z"
    },
    "papermill": {
     "duration": 13.861903,
     "end_time": "2021-05-04T03:03:42.919947",
     "exception": false,
     "start_time": "2021-05-04T03:03:29.058044",
     "status": "completed"
    },
    "tags": []
   },
   "outputs": [
    {
     "data": {
      "image/png": "[encoded data removed]",
      "text/plain": [
       "<Figure size 432x288 with 1 Axes>"
      ]
     },
     "metadata": {
      "needs_background": "light"
     },
     "output_type": "display_data"
    },
    {
     "name": "stdout",
     "output_type": "stream",
     "text": [
      "461\n",
      "Accuracy of the Model LinearDiscriminantAnalysis 66.2%\n"
     ]
    }
   ],
   "source": [
    "from sklearn.discriminant_analysis import LinearDiscriminantAnalysis #Import packages related to Model\n",
    "Model = \"LinearDiscriminantAnalysis\"\n",
    "model=LinearDiscriminantAnalysis()\n",
    "\n",
    "train_test_ml_model(X_train,y_train,X_test,Model)"
   ]
  },
  {
   "cell_type": "markdown",
   "id": "distributed-spring",
   "metadata": {
    "papermill": {
     "duration": 0.041949,
     "end_time": "2021-05-04T03:03:43.004322",
     "exception": false,
     "start_time": "2021-05-04T03:03:42.962373",
     "status": "completed"
    },
    "tags": []
   },
   "source": [
    "## <font color='blue'>Random Forest Classifier ML model</font>"
   ]
  },
  {
   "cell_type": "code",
   "execution_count": 25,
   "id": "recovered-venezuela",
   "metadata": {
    "execution": {
     "iopub.execute_input": "2021-05-04T03:03:43.093669Z",
     "iopub.status.busy": "2021-05-04T03:03:43.093143Z",
     "iopub.status.idle": "2021-05-04T03:03:51.644198Z",
     "shell.execute_reply": "2021-05-04T03:03:51.643814Z"
    },
    "papermill": {
     "duration": 8.596924,
     "end_time": "2021-05-04T03:03:51.644322",
     "exception": false,
     "start_time": "2021-05-04T03:03:43.047398",
     "status": "completed"
    },
    "tags": []
   },
   "outputs": [
    {
     "data": {
      "image/png": "[encoded data removed]",
      "text/plain": [
       "<Figure size 432x288 with 1 Axes>"
      ]
     },
     "metadata": {
      "needs_background": "light"
     },
     "output_type": "display_data"
    },
    {
     "name": "stdout",
     "output_type": "stream",
     "text": [
      "404\n",
      "Accuracy of the Model RandomForestClassifier 85.6%\n"
     ]
    }
   ],
   "source": [
    "from sklearn.ensemble import RandomForestClassifier #Import packages related to Model\n",
    "Model = \"RandomForestClassifier\"\n",
    "model=RandomForestClassifier()\n",
    "\n",
    "train_test_ml_model(X_train,y_train,X_test,Model)"
   ]
  },
  {
   "cell_type": "markdown",
   "id": "bizarre-amsterdam",
   "metadata": {
    "papermill": {
     "duration": 0.054018,
     "end_time": "2021-05-04T03:03:51.750051",
     "exception": false,
     "start_time": "2021-05-04T03:03:51.696033",
     "status": "completed"
    },
    "tags": []
   },
   "source": [
    "## <font color='blue'>Ada Boost Classifier ML model</font>"
   ]
  },
  {
   "cell_type": "code",
   "execution_count": 26,
   "id": "gross-sleeve",
   "metadata": {
    "execution": {
     "iopub.execute_input": "2021-05-04T03:03:51.842771Z",
     "iopub.status.busy": "2021-05-04T03:03:51.842323Z",
     "iopub.status.idle": "2021-05-04T03:04:04.133747Z",
     "shell.execute_reply": "2021-05-04T03:04:04.133279Z"
    },
    "papermill": {
     "duration": 12.339292,
     "end_time": "2021-05-04T03:04:04.133864",
     "exception": false,
     "start_time": "2021-05-04T03:03:51.794572",
     "status": "completed"
    },
    "tags": []
   },
   "outputs": [
    {
     "data": {
      "image/png": "[encoded data removed]",
      "text/plain": [
       "<Figure size 432x288 with 1 Axes>"
      ]
     },
     "metadata": {
      "needs_background": "light"
     },
     "output_type": "display_data"
    },
    {
     "name": "stdout",
     "output_type": "stream",
     "text": [
      "341\n",
      "Accuracy of the Model AdaBoostClassifier 85.4%\n"
     ]
    }
   ],
   "source": [
    "from sklearn.ensemble import AdaBoostClassifier #Import packages related to Model\n",
    "Model = \"AdaBoostClassifier\"\n",
    "model=AdaBoostClassifier()\n",
    "\n",
    "train_test_ml_model(X_train,y_train,X_test,Model)"
   ]
  },
  {
   "cell_type": "markdown",
   "id": "difficult-degree",
   "metadata": {
    "papermill": {
     "duration": 0.044352,
     "end_time": "2021-05-04T03:04:04.223312",
     "exception": false,
     "start_time": "2021-05-04T03:04:04.178960",
     "status": "completed"
    },
    "tags": []
   },
   "source": [
    "## <font color='blue'>Gradient Boosting Classifier ML model</font>"
   ]
  },
  {
   "cell_type": "code",
   "execution_count": 27,
   "id": "infectious-works",
   "metadata": {
    "execution": {
     "iopub.execute_input": "2021-05-04T03:04:04.317418Z",
     "iopub.status.busy": "2021-05-04T03:04:04.316646Z",
     "iopub.status.idle": "2021-05-04T03:04:45.576444Z",
     "shell.execute_reply": "2021-05-04T03:04:45.576024Z"
    },
    "papermill": {
     "duration": 41.308807,
     "end_time": "2021-05-04T03:04:45.576544",
     "exception": false,
     "start_time": "2021-05-04T03:04:04.267737",
     "status": "completed"
    },
    "tags": []
   },
   "outputs": [
    {
     "data": {
      "image/png": "[encoded data removed]",
      "text/plain": [
       "<Figure size 432x288 with 1 Axes>"
      ]
     },
     "metadata": {
      "needs_background": "light"
     },
     "output_type": "display_data"
    },
    {
     "name": "stdout",
     "output_type": "stream",
     "text": [
      "353\n",
      "Accuracy of the Model GradientBoostingClassifier 86.0%\n"
     ]
    }
   ],
   "source": [
    "from sklearn.ensemble import GradientBoostingClassifier #Import packages related to Model\n",
    "Model = \"GradientBoostingClassifier\"\n",
    "model=GradientBoostingClassifier()\n",
    "\n",
    "train_test_ml_model(X_train,y_train,X_test,Model)"
   ]
  },
  {
   "cell_type": "markdown",
   "id": "b8472ceb",
   "metadata": {},
   "source": [
    "-- Conclusion: GradientBoosting Classifier had the best model accuracy for predicting the customer Churn.\n"
   ]
  }
 ],
 "metadata": {
  "kernelspec": {
   "display_name": "Python 3",
   "language": "python",
   "name": "python3"
  },
  "language_info": {
   "codemirror_mode": {
    "name": "ipython",
    "version": 3
   },
   "file_extension": ".py",
   "mimetype": "text/x-python",
   "name": "python",
   "nbconvert_exporter": "python",
   "pygments_lexer": "ipython3",
   "version": "3.7.9"
  },
  "papermill": {
   "default_parameters": {},
   "duration": 207.416021,
   "end_time": "2021-05-04T03:04:46.324062",
   "environment_variables": {},
   "exception": null,
   "input_path": "__notebook__.ipynb",
   "output_path": "__notebook__.ipynb",
   "parameters": {},
   "start_time": "2021-05-04T03:01:18.908041",
   "version": "2.3.2"
  }
 },
 "nbformat": 4,
 "nbformat_minor": 5
}
